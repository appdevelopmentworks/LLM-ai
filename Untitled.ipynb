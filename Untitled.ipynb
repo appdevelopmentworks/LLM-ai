{
 "cells": [
  {
   "cell_type": "code",
   "execution_count": null,
   "id": "c1ff6cef-3d3a-43e6-a706-5c939e567fbd",
   "metadata": {},
   "outputs": [],
   "source": [
    "from langchain.langchain import LangChain\n",
    "from langchain.configs import ChatConfig\n",
    "from langchain.envs import ChainEnv\n",
    "from langchain.agents import ChainAgent\n",
    "from langchain.planners import NextStepPlanner\n",
    "from langchain.dataset import Dataset\n",
    "from langchain.utilities import load_config, instantiate_agent, instantiate_planner\n",
    "from pprint import pprint\n",
    "\n",
    "import chainlit as cl\n",
    "import time\n",
    "import openai\n",
    "\n",
    "# モデル設定\n",
    "config = load_config(ChatConfig, \"config.yaml\")  # 設定ファイルを読み込み\n",
    "env = ChainEnv(config)  # 環境を作成\n",
    "agent = instantiate_agent(config, env)  # エージェントを作成\n",
    "planner = instantiate_planner(config, env)  # プランナーを作成\n",
    "\n",
    "# データセット\n",
    "dataset = Dataset(\"data.json\")  # データセットを読み込み\n",
    "\n",
    "# 会話履歴\n",
    "conversation = []\n",
    "\n",
    "# OpenAI APIキーの設定\n",
    "openai.api_key = config.openai_api_key  # 設定ファイルからOpenAI APIキーを取得\n",
    "\n",
    "# Chainlitアプリ\n",
    "def app():\n",
    "    with cl.form(\"chat-form\"):\n",
    "        user_input = cl.text_input(\"メッセージを入力してください\")\n",
    "        submit_button = cl.button(\"送信\")\n",
    "\n",
    "    if submit_button or user_input.data:\n",
    "        # 発話と応答を会話履歴に追加\n",
    "        conversation.append((\"user\", user_input.data))\n",
    "\n",
    "        # 推論\n",
    "        response = agent.take_action(\n",
    "            next_action=planner.plan(conversation, agent.state),\n",
    "            prompt=user_input.data,\n",
    "            model_id=\"gpt-4o\",  # LLM gpt-4oを指定\n",
    "        )\n",
    "        conversation.append((\"agent\", response))\n",
    "\n",
    "        # 逐次文字表示\n",
    "        with cl.echo():\n",
    "            for char in response:\n",
    "                time.sleep(0.1)\n",
    "                cl.write(char)\n",
    "\n",
    "# 実行\n",
    "app()\n"
   ]
  }
 ],
 "metadata": {
  "kernelspec": {
   "display_name": "Python 3 (ipykernel)",
   "language": "python",
   "name": "python3"
  },
  "language_info": {
   "codemirror_mode": {
    "name": "ipython",
    "version": 3
   },
   "file_extension": ".py",
   "mimetype": "text/x-python",
   "name": "python",
   "nbconvert_exporter": "python",
   "pygments_lexer": "ipython3",
   "version": "3.11.7"
  }
 },
 "nbformat": 4,
 "nbformat_minor": 5
}
