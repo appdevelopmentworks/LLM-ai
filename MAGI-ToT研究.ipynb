{
 "cells": [
  {
   "cell_type": "code",
   "execution_count": 2,
   "id": "b1305868-9705-4996-ad1e-cd8d990fbd4a",
   "metadata": {},
   "outputs": [],
   "source": [
    "import os\n",
    "import deepl\n",
    "#\n",
    "from langchain.schema import HumanMessage\n",
    "from langchain.callbacks.streaming_stdout import StreamingStdOutCallbackHandler"
   ]
  },
  {
   "cell_type": "markdown",
   "id": "ddb4cae4-cce9-4ddb-9578-9bd687d4ab6f",
   "metadata": {},
   "source": [
    "## 質問を英語に翻訳し回答精度を上げる"
   ]
  },
  {
   "cell_type": "code",
   "execution_count": 4,
   "id": "103c8a40-1d28-476e-a0e8-48da1f32cc8b",
   "metadata": {},
   "outputs": [
    {
     "name": "stdin",
     "output_type": "stream",
     "text": [
      "質問を入力してください: ホオジロザメの寿命は？\n"
     ]
    },
    {
     "name": "stdout",
     "output_type": "stream",
     "text": [
      "What is the lifespan of a great white shark?\n"
     ]
    }
   ],
   "source": [
    "querry = input(\"質問を入力してください:\")\n",
    "\n",
    "#text = \"If there is a rule, the heart will be determined, I'm tired of fighting.\"\n",
    "source_lang = 'JA'\n",
    "target_lang = 'EN-US'\n",
    "\n",
    "# イニシャライズ\n",
    "translator = deepl.Translator(os.environ['DEEPL_API_KEY'])\n",
    "\n",
    "# 翻訳を実行\n",
    "resDeep = translator.translate_text(querry, source_lang=source_lang, target_lang=target_lang)\n",
    "\n",
    "# print すると翻訳後の文章が出力される\n",
    "print(resDeep)"
   ]
  },
  {
   "cell_type": "markdown",
   "id": "3f0cd15a-f5af-435f-8b14-ea607deaa6b5",
   "metadata": {},
   "source": [
    "## ChatGPT-4o"
   ]
  },
  {
   "cell_type": "code",
   "execution_count": 9,
   "id": "5989fee5-4cfb-42c1-910f-d1b0f263ea92",
   "metadata": {},
   "outputs": [
    {
     "name": "stdout",
     "output_type": "stream",
     "text": [
      "The lifespan of a great white shark (Carcharodon carcharias) is typically estimated to be around 70 years, although some individuals may live longer. Research has shown that great white sharks grow and mature slowly, with males reaching maturity at around 26 years and females at around 33 years. This long lifespan and late maturity mean that great white sharks have relatively slow population growth, making them vulnerable to overfishing and other human impacts.The lifespan of a great white shark (Carcharodon carcharias) is typically estimated to be around 70 years, although some individuals may live longer. Research has shown that great white sharks grow and mature slowly, with males reaching maturity at around 26 years and females at around 33 years. This long lifespan and late maturity mean that great white sharks have relatively slow population growth, making them vulnerable to overfishing and other human impacts.\n"
     ]
    }
   ],
   "source": [
    "#Warningに基づきインポート文を変える\n",
    "from langchain_openai import ChatOpenAI\n",
    "\n",
    "#クライアント作成、呼び出すモデル指定\n",
    "chatgpt = ChatOpenAI(\n",
    "    model=\"gpt-4o\",\n",
    "    streaming=True,\n",
    "    callbacks=[\n",
    "        StreamingStdOutCallbackHandler()\n",
    "    ]\n",
    ")\n",
    "\n",
    "#実行\n",
    "resOpenai = chatgpt(\n",
    "    [\n",
    "        HumanMessage(content=resDeep.text)\n",
    "    ]\n",
    ")\n",
    "\n",
    "print(resOpenai.content)"
   ]
  },
  {
   "cell_type": "markdown",
   "id": "090cc76c-7cb2-4fc0-a1de-d9ab72e4047a",
   "metadata": {},
   "source": [
    "## Gemini 1.5 flash"
   ]
  },
  {
   "cell_type": "code",
   "execution_count": 6,
   "id": "3b697019-0b6f-4546-bcf1-bc9875932bf3",
   "metadata": {},
   "outputs": [
    {
     "name": "stdout",
     "output_type": "stream",
     "text": [
      "The lifespan of a great white shark is estimated to be **around 70 years**, though it can vary depending on individual factors and environmental conditions. \n",
      "\n",
      "Here's a breakdown of what we know:\n",
      "\n",
      "* **Maximum lifespan:** The oldest known great white shark was a female estimated to be 73 years old.\n",
      "* **Average lifespan:** While 70 years is a possible maximum, the average lifespan is likely shorter, potentially around 40-50 years.\n",
      "* **Factors influencing lifespan:**  Factors like diet, habitat, and the presence of predators can all influence a great white shark's lifespan.\n",
      "\n",
      "It's important to note that these are estimates, and research on great white shark lifespans is ongoing. \n",
      "\n"
     ]
    }
   ],
   "source": [
    "from langchain_google_genai import ChatGoogleGenerativeAI\n",
    "\n",
    "#クライアント作成、呼び出すモデル指定\n",
    "chatgemini = ChatGoogleGenerativeAI(\n",
    "    #ストリーミングモード指定\n",
    "    model=\"gemini-1.5-flash-latest\",\n",
    "    streaming=True,\n",
    "    callbacks=[\n",
    "        StreamingStdOutCallbackHandler()\n",
    "    ]\n",
    ")\n",
    "\n",
    "#実行\n",
    "resGemini = chatgemini(\n",
    "    [\n",
    "        HumanMessage(content=resDeep.text)\n",
    "    ]\n",
    ")\n",
    "\n",
    "print(resGemini.content)"
   ]
  },
  {
   "cell_type": "markdown",
   "id": "bdf05c45-cbec-4904-a12d-8dcf28a93fb4",
   "metadata": {},
   "source": [
    "## Claud3.5 sonnet"
   ]
  },
  {
   "cell_type": "code",
   "execution_count": 11,
   "id": "9accd429-1280-4ddb-b4b0-a3eb10db9729",
   "metadata": {},
   "outputs": [
    {
     "name": "stdout",
     "output_type": "stream",
     "text": [
      "The lifespan of a great white shark is not precisely known due to the challenges of studying these large, migratory predators in their natural habitat. However, based on various scientific studies and estimates, the lifespan of a great white shark is believed to be:\n",
      "\n",
      "1. Approximately 70 years on average\n",
      "2. Potentially up to 70-100 years for some individuals\n",
      "\n",
      "Some key points about great white shark lifespans:\n",
      "\n",
      "1. Age estimation: Scientists use various methods to estimate shark ages, including analyzing growth rings in vertebrae and radiocarbon dating.\n",
      "\n",
      "2. Slow growth: Great white sharks grow slowly and mature late, which contributes to their long lifespan.\n",
      "\n",
      "3. Variability: Lifespan can vary depending on factors such as environmental conditions, food availability, and human interactions.\n",
      "\n",
      "4. Ongoing research: As technology and research methods improve, scientists continue to refine their understanding of great white shark lifespans.\n",
      "\n",
      "It's worth noting that these estimates are based on the best available scientific data, but exact lifespans may vary, and future research could lead to more precise figures.The lifespan of a great white shark is not precisely known due to the challenges of studying these large, migratory predators in their natural habitat. However, based on various scientific studies and estimates, the lifespan of a great white shark is believed to be:\n",
      "\n",
      "1. Approximately 70 years on average\n",
      "2. Potentially up to 70-100 years for some individuals\n",
      "\n",
      "Some key points about great white shark lifespans:\n",
      "\n",
      "1. Age estimation: Scientists use various methods to estimate shark ages, including analyzing growth rings in vertebrae and radiocarbon dating.\n",
      "\n",
      "2. Slow growth: Great white sharks grow slowly and mature late, which contributes to their long lifespan.\n",
      "\n",
      "3. Variability: Lifespan can vary depending on factors such as environmental conditions, food availability, and human interactions.\n",
      "\n",
      "4. Ongoing research: As technology and research methods improve, scientists continue to refine their understanding of great white shark lifespans.\n",
      "\n",
      "It's worth noting that these estimates are based on the best available scientific data, but exact lifespans may vary, and future research could lead to more precise figures.\n"
     ]
    }
   ],
   "source": [
    "from langchain_anthropic import ChatAnthropic\n",
    "\n",
    "#クライアント作成、呼び出すモデル指定\n",
    "chatclaud = ChatAnthropic(\n",
    "    #ストリーミングモード指定\n",
    "    model=\"claude-3-5-sonnet-20240620\",\n",
    "    streaming=True,\n",
    "    callbacks=[\n",
    "        StreamingStdOutCallbackHandler()\n",
    "    ]\n",
    ")\n",
    "\n",
    "#実行\n",
    "resClaud = chatclaud(\n",
    "    [\n",
    "        HumanMessage(content=resDeep.text)\n",
    "    ]\n",
    ")\n",
    "\n",
    "print(resClaud.content)"
   ]
  },
  {
   "cell_type": "markdown",
   "id": "bba26fca-a1d8-4b0e-8f2d-553fb3e1be4d",
   "metadata": {},
   "source": [
    "## Groq Llama3 70B"
   ]
  },
  {
   "cell_type": "code",
   "execution_count": 8,
   "id": "441009df-d59a-40bf-a4a9-a6bb0e981a34",
   "metadata": {},
   "outputs": [
    {
     "name": "stdout",
     "output_type": "stream",
     "text": [
      "The lifespan of a great white shark (Carcharodon carcharias) is a topic of ongoing research and some debate. Historically, it was believed that great whites lived for around 20-30 years, but more recent studies suggest that they may live much longer than that.\n",
      "\n",
      "One study published in 2014 estimated that great white sharks can live for up to 70 years or more in the wild. This estimate was based on radiocarbon dating of the sharks' vertebrae, which can provide an accurate age estimate.\n",
      "\n",
      "Another study published in 2020 used a different method to estimate the lifespan of great whites. By analyzing the growth rates of the sharks' teeth, the researchers estimated that great whites can live for up to 50-60 years.\n",
      "\n",
      "It's worth noting that great white sharks in captivity typically do not live as long as those in the wild. In aquariums, great whites usually live for around 10-20 years.\n",
      "\n",
      "Overall, while the exact lifespan of a great white shark is still not precisely known, it is likely to be several decades, and possibly up to 70 years or more in the wild.The lifespan of a great white shark (Carcharodon carcharias) is a topic of ongoing research and some debate. Historically, it was believed that great whites lived for around 20-30 years, but more recent studies suggest that they may live much longer than that.\n",
      "\n",
      "One study published in 2014 estimated that great white sharks can live for up to 70 years or more in the wild. This estimate was based on radiocarbon dating of the sharks' vertebrae, which can provide an accurate age estimate.\n",
      "\n",
      "Another study published in 2020 used a different method to estimate the lifespan of great whites. By analyzing the growth rates of the sharks' teeth, the researchers estimated that great whites can live for up to 50-60 years.\n",
      "\n",
      "It's worth noting that great white sharks in captivity typically do not live as long as those in the wild. In aquariums, great whites usually live for around 10-20 years.\n",
      "\n",
      "Overall, while the exact lifespan of a great white shark is still not precisely known, it is likely to be several decades, and possibly up to 70 years or more in the wild.\n"
     ]
    }
   ],
   "source": [
    "from langchain_groq import ChatGroq\n",
    "\n",
    "#クライアント作成、呼び出すモデル指定\n",
    "chatgroq = ChatGroq(\n",
    "    #ストリーミングモード指定\n",
    "    model=\"llama3-70b-8192\",\n",
    "    streaming=True,\n",
    "    callbacks=[\n",
    "        StreamingStdOutCallbackHandler()\n",
    "    ]\n",
    ")\n",
    "\n",
    "#実行\n",
    "resGroq = chatgroq(\n",
    "    [\n",
    "        HumanMessage(content=resDeep.text)\n",
    "    ]\n",
    ")\n",
    "\n",
    "print(resGroq.content)"
   ]
  },
  {
   "cell_type": "code",
   "execution_count": 10,
   "id": "95689444-4372-4da6-9cf7-3043760f926b",
   "metadata": {},
   "outputs": [],
   "source": [
    "##"
   ]
  },
  {
   "cell_type": "code",
   "execution_count": 72,
   "id": "f8c5f138-c09d-4c9e-a2e3-a23514cd6b8b",
   "metadata": {},
   "outputs": [],
   "source": [
    "ans01 = resOpenai.content\n",
    "ans02 = resGemini.content\n",
    "ans03 = resClaud.content\n",
    "ans04 = resGroq.content"
   ]
  },
  {
   "cell_type": "code",
   "execution_count": 36,
   "id": "e2d04d54-566f-498d-83a0-30ee179bd6c8",
   "metadata": {},
   "outputs": [],
   "source": [
    "# うまくいかない\n",
    "from langchain import PromptTemplate\n",
    "\n",
    "prompt = PromptTemplate(\n",
    "    template=\"\"\"\n",
    "    あなたは優秀な裁判官です以下の４つの回答から\n",
    "    最も適切な回答を導き出してください。\n",
    "    # 回答\n",
    "    - 回答1:{ans01}\n",
    "    - 回答2:{ans02}\n",
    "    - 回答3:{ans03}\n",
    "    - 回答4:{ans04}\n",
    "    \"\"\",\n",
    "    input_variables = [\n",
    "        \"ans01\"   \n",
    "    ]\n",
    ")"
   ]
  },
  {
   "cell_type": "code",
   "execution_count": 67,
   "id": "c9292586-f0a7-435a-b5a0-7d70b0cfc3ec",
   "metadata": {},
   "outputs": [
    {
     "name": "stdout",
     "output_type": "stream",
     "text": [
      "input_variables=['ans01', 'ans02'] template='\\n    あなたは優秀な裁判官です。以下の４つの回答から\\n    最も適切な回答を導き出してください。\\n    # 回答\\n    - 回答1:{ans01}\\n    - 回答2:{ans02}\\n    '\n"
     ]
    }
   ],
   "source": [
    "print(prompt)"
   ]
  },
  {
   "cell_type": "code",
   "execution_count": 92,
   "id": "04fafc6a-13b0-40f1-8891-46c22629e32f",
   "metadata": {},
   "outputs": [],
   "source": [
    "from langchain import PromptTemplate\n",
    "\n",
    "prompt = PromptTemplate(\n",
    "    input_variables=[\"input\", \"output\"],\n",
    "    template=f\"\"\"\n",
    "    あなたは優秀な裁判官です。以下の４つの回答から\n",
    "    最も適切な回答を導き出して条件に従って出力してください。\n",
    "    # 回答\n",
    "    - 回答1:{ans01}\n",
    "    - 回答2:{ans02}\n",
    "    - 回答3:{ans03}\n",
    "    - 回答4:{ans04}\n",
    "    # 条件\n",
    "    - 出力は日本語でお願いします\n",
    "    # 出力\n",
    "    - 最も適切だった回答の内容\n",
    "    \"\"\",\n",
    ")\n"
   ]
  },
  {
   "cell_type": "code",
   "execution_count": null,
   "id": "34fa4730-90e0-4b93-87d4-ca6583b7628d",
   "metadata": {},
   "outputs": [],
   "source": [
    "print(prompt.template)"
   ]
  },
  {
   "cell_type": "code",
   "execution_count": 93,
   "id": "bfd13f17-75db-44ba-a92b-116642aa0dd7",
   "metadata": {},
   "outputs": [
    {
     "name": "stdout",
     "output_type": "stream",
     "text": [
      "## 最も適切だった回答の内容\n",
      "\n",
      "最も適切な回答は **回答3** です。\n",
      "\n",
      "**理由:**\n",
      "\n",
      "* **情報量とバランス:** 回答3は、推定される寿命の範囲、寿命推定方法、影響要因、さらには今後の研究の可能性まで、最も包括的な情報を提供しています。\n",
      "* **客観性:**  回答3は、寿命推定の不確実性を認めつつ、最新の研究に基づいた情報を分かりやすく提示しています。\n",
      "* **読みやすさ:** 回答3は、情報を箇条書きで整理し、重要なポイントを明確に示すことで、読み手の理解を助けています。\n",
      "\n",
      "他の回答は、以下のような点で劣ります。\n",
      "\n",
      "* **回答1:** 寿命の推定値のみを提示し、詳細な情報や根拠が不足しています。\n",
      "* **回答2:** 寿命の推定値とわずかな補足説明のみで、他の回答と比べて情報量が少なく、読者の理解を深めるのに不十分です。\n",
      "* **回答4:** 複数の研究結果を紹介していますが、それぞれの研究方法や信頼性についての説明が不足しており、読者は情報が整理されておらず、混乱する可能性があります。\n",
      "\n",
      "**結論:**\n",
      "\n",
      "回答3は、最新の研究に基づいた詳細な情報と客観的な視点、そして読みやすさを兼ね備えているため、最も適切な回答と言えます。 \n",
      "\n"
     ]
    }
   ],
   "source": [
    "from langchain_google_genai import ChatGoogleGenerativeAI\n",
    "\n",
    "#クライアント作成、呼び出すモデル指定\n",
    "chatgemini = ChatGoogleGenerativeAI(\n",
    "    #ストリーミングモード指定\n",
    "    model=\"gemini-1.5-flash-latest\",\n",
    "    streaming=True,\n",
    "    callbacks=[\n",
    "        StreamingStdOutCallbackHandler()\n",
    "    ]\n",
    ")\n",
    "\n",
    "#実行\n",
    "resFinal = chatgemini(\n",
    "    [\n",
    "        HumanMessage(content=prompt.template)\n",
    "    ]\n",
    ")\n",
    "\n",
    "print(resFinal.content)"
   ]
  },
  {
   "cell_type": "code",
   "execution_count": 95,
   "id": "11bd49ea-af77-4125-a1a3-c50ed751edaa",
   "metadata": {},
   "outputs": [
    {
     "name": "stdout",
     "output_type": "stream",
     "text": [
      "ホホジロザメの寿命は、この大型で移動性の捕食動物を自然の生息地で研究することの難しさから、正確にはわかっていない。し か し 、さ ま ざ ま な 科 学 的 研 究 や 推 定 に よ る と 、ホ ホジロザメの 寿 命 は\n",
      "\n",
      "1.平均約70年\n",
      "2.個体によっては70～100年の可能性もある。\n",
      "\n",
      "ホホジロザメの寿命に関するポイント\n",
      "\n",
      "1.年齢の推定：科学者は、脊椎骨の成長環の分析や放射性炭素年代測定など、様々な方法でサメの年齢を推定している。\n",
      "\n",
      "2.成長が遅い：ホホジロザメは成長が遅く、成熟が遅いため、寿命が長い。\n",
      "\n",
      "3.変動性：寿命は環境条件、餌の有無、人間との関わりなどの要因によって変化する。\n",
      "\n",
      "4.継続的な研究：テクノロジーと調査方法の改善に伴い、科学者はホホジロザメの寿命に関する理解を深め続けている。\n",
      "\n",
      "これらの推定値は入手可能な最良の科学データに基づいているが、正確な寿命は異なる可能性があり、今後の研究によってより正確な数値が導き出される可能性がある。\n"
     ]
    }
   ],
   "source": [
    "\n",
    "# イニシャライズ\n",
    "translator = deepl.Translator(os.environ['DEEPL_API_KEY'])\n",
    "\n",
    "# 翻訳を実行\n",
    "resDeep = translator.translate_text(ans03, source_lang='EN', target_lang='JA')\n",
    "\n",
    "# print すると翻訳後の文章が出力される\n",
    "print(resDeep)"
   ]
  },
  {
   "cell_type": "code",
   "execution_count": null,
   "id": "f701f3c7-05e2-479a-9158-ce28e3248552",
   "metadata": {},
   "outputs": [],
   "source": []
  }
 ],
 "metadata": {
  "kernelspec": {
   "display_name": "Python 3 (ipykernel)",
   "language": "python",
   "name": "python3"
  },
  "language_info": {
   "codemirror_mode": {
    "name": "ipython",
    "version": 3
   },
   "file_extension": ".py",
   "mimetype": "text/x-python",
   "name": "python",
   "nbconvert_exporter": "python",
   "pygments_lexer": "ipython3",
   "version": "3.11.7"
  }
 },
 "nbformat": 4,
 "nbformat_minor": 5
}
