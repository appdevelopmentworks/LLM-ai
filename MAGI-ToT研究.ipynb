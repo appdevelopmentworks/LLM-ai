{
 "cells": [
  {
   "cell_type": "code",
   "execution_count": 4,
   "id": "b1305868-9705-4996-ad1e-cd8d990fbd4a",
   "metadata": {},
   "outputs": [],
   "source": [
    "import os\n",
    "import deepl\n",
    "#\n",
    "from langchain.schema import HumanMessage\n",
    "from langchain.callbacks.streaming_stdout import StreamingStdOutCallbackHandler"
   ]
  },
  {
   "cell_type": "markdown",
   "id": "ddb4cae4-cce9-4ddb-9578-9bd687d4ab6f",
   "metadata": {},
   "source": [
    "## 質問を英語に翻訳し回答精度を上げる場合"
   ]
  },
  {
   "cell_type": "code",
   "execution_count": 6,
   "id": "103c8a40-1d28-476e-a0e8-48da1f32cc8b",
   "metadata": {},
   "outputs": [
    {
     "name": "stdin",
     "output_type": "stream",
     "text": [
      "質問を入力してください: シロナガスクジラの寿命は？\n"
     ]
    },
    {
     "name": "stdout",
     "output_type": "stream",
     "text": [
      "What is the lifespan of a blue whale?\n"
     ]
    }
   ],
   "source": [
    "querry = input(\"質問を入力してください:\")\n",
    "\n",
    "#text = \"If there is a rule, the heart will be determined, I'm tired of fighting.\"\n",
    "source_lang = 'JA'\n",
    "target_lang = 'EN-US'\n",
    "\n",
    "# イニシャライズ\n",
    "translator = deepl.Translator(os.environ['DEEPL_API_KEY'])\n",
    "\n",
    "# 翻訳を実行\n",
    "resDeep = translator.translate_text(querry, source_lang=source_lang, target_lang=target_lang)\n",
    "\n",
    "# print すると翻訳後の文章が出力される\n",
    "print(resDeep)"
   ]
  },
  {
   "cell_type": "markdown",
   "id": "3f0cd15a-f5af-435f-8b14-ea607deaa6b5",
   "metadata": {},
   "source": [
    "## ChatGPT-4o"
   ]
  },
  {
   "cell_type": "code",
   "execution_count": 7,
   "id": "5989fee5-4cfb-42c1-910f-d1b0f263ea92",
   "metadata": {},
   "outputs": [
    {
     "name": "stderr",
     "output_type": "stream",
     "text": [
      "C:\\Users\\hartm\\anaconda3\\Lib\\site-packages\\langchain_core\\_api\\deprecation.py:119: LangChainDeprecationWarning: The method `BaseChatModel.__call__` was deprecated in langchain-core 0.1.7 and will be removed in 0.2.0. Use invoke instead.\n",
      "  warn_deprecated(\n"
     ]
    },
    {
     "name": "stdout",
     "output_type": "stream",
     "text": [
      "The lifespan of a blue whale (Balaenoptera musculus) typically ranges from 70 to 90 years, though some individuals may live over 100 years in optimal conditions. These majestic marine mammals are among the longest-lived animals on Earth, benefiting from a relatively low predation risk once they reach adulthood. However, factors such as human activities, environmental changes, and availability of food can influence their longevity.The lifespan of a blue whale (Balaenoptera musculus) typically ranges from 70 to 90 years, though some individuals may live over 100 years in optimal conditions. These majestic marine mammals are among the longest-lived animals on Earth, benefiting from a relatively low predation risk once they reach adulthood. However, factors such as human activities, environmental changes, and availability of food can influence their longevity.\n"
     ]
    }
   ],
   "source": [
    "#Warningに基づきインポート文を変える\n",
    "from langchain_openai import ChatOpenAI\n",
    "\n",
    "#クライアント作成、呼び出すモデル指定\n",
    "chatgpt = ChatOpenAI(\n",
    "    model=\"gpt-4o\",\n",
    "    streaming=True,\n",
    "    callbacks=[\n",
    "        StreamingStdOutCallbackHandler()\n",
    "    ]\n",
    ")\n",
    "\n",
    "#実行\n",
    "resOpenai = chatgpt(\n",
    "    [\n",
    "        HumanMessage(content=resDeep.text)\n",
    "    ]\n",
    ")\n",
    "\n",
    "print(resOpenai.content)"
   ]
  },
  {
   "cell_type": "markdown",
   "id": "090cc76c-7cb2-4fc0-a1de-d9ab72e4047a",
   "metadata": {},
   "source": [
    "## Gemini 1.5 flash"
   ]
  },
  {
   "cell_type": "code",
   "execution_count": 8,
   "id": "3b697019-0b6f-4546-bcf1-bc9875932bf3",
   "metadata": {},
   "outputs": [
    {
     "name": "stdout",
     "output_type": "stream",
     "text": [
      "The lifespan of a blue whale is estimated to be around **80 to 90 years**. \n",
      "\n",
      "However, it's important to note that:\n",
      "\n",
      "* **This is an estimate:**  Accurate data on the lifespan of wild blue whales is limited, as it's very difficult to track them for their entire lives.\n",
      "* **Lifespan can vary:** Factors like environmental conditions, food availability, and overall health can influence individual lifespans. \n",
      "\n"
     ]
    }
   ],
   "source": [
    "from langchain_google_genai import ChatGoogleGenerativeAI\n",
    "\n",
    "#クライアント作成、呼び出すモデル指定\n",
    "chatgemini = ChatGoogleGenerativeAI(\n",
    "    #ストリーミングモード指定\n",
    "    model=\"gemini-1.5-flash-latest\",\n",
    "    streaming=True,\n",
    "    callbacks=[\n",
    "        StreamingStdOutCallbackHandler()\n",
    "    ]\n",
    ")\n",
    "\n",
    "#実行\n",
    "resGemini = chatgemini(\n",
    "    [\n",
    "        HumanMessage(content=resDeep.text)\n",
    "    ]\n",
    ")\n",
    "\n",
    "print(resGemini.content)"
   ]
  },
  {
   "cell_type": "markdown",
   "id": "bdf05c45-cbec-4904-a12d-8dcf28a93fb4",
   "metadata": {},
   "source": [
    "## Claud3.5 sonnet"
   ]
  },
  {
   "cell_type": "code",
   "execution_count": 9,
   "id": "9accd429-1280-4ddb-b4b0-a3eb10db9729",
   "metadata": {},
   "outputs": [
    {
     "name": "stdout",
     "output_type": "stream",
     "text": [
      "The lifespan of a blue whale is estimated to be between 80 to 90 years on average, although some individuals may live even longer. Here are some key points about blue whale lifespans:\n",
      "\n",
      "1. Longest-lived: Blue whales are among the longest-lived animals on Earth.\n",
      "\n",
      "2. Difficult to study: Accurate age determination is challenging due to their marine habitat and long lifespans.\n",
      "\n",
      "3. Age estimation methods: Scientists use various techniques to estimate age, including analyzing earwax plugs and examining changes in eye lenses.\n",
      "\n",
      "4. Oldest recorded: The oldest blue whale ever recorded was estimated to be around 110 years old, based on earwax plug analysis.\n",
      "\n",
      "5. Sexual maturity: Blue whales reach sexual maturity between 5-15 years of age.\n",
      "\n",
      "6. Factors affecting lifespan: Environmental conditions, food availability, and human activities (like ship strikes and entanglement in fishing gear) can impact their longevity.\n",
      "\n",
      "7. Comparison to other whales: Their lifespan is similar to other large whale species, such as fin whales and humpback whales.\n",
      "\n",
      "It's important to note that ongoing research may refine our understanding of blue whale lifespans in the future.The lifespan of a blue whale is estimated to be between 80 to 90 years on average, although some individuals may live even longer. Here are some key points about blue whale lifespans:\n",
      "\n",
      "1. Longest-lived: Blue whales are among the longest-lived animals on Earth.\n",
      "\n",
      "2. Difficult to study: Accurate age determination is challenging due to their marine habitat and long lifespans.\n",
      "\n",
      "3. Age estimation methods: Scientists use various techniques to estimate age, including analyzing earwax plugs and examining changes in eye lenses.\n",
      "\n",
      "4. Oldest recorded: The oldest blue whale ever recorded was estimated to be around 110 years old, based on earwax plug analysis.\n",
      "\n",
      "5. Sexual maturity: Blue whales reach sexual maturity between 5-15 years of age.\n",
      "\n",
      "6. Factors affecting lifespan: Environmental conditions, food availability, and human activities (like ship strikes and entanglement in fishing gear) can impact their longevity.\n",
      "\n",
      "7. Comparison to other whales: Their lifespan is similar to other large whale species, such as fin whales and humpback whales.\n",
      "\n",
      "It's important to note that ongoing research may refine our understanding of blue whale lifespans in the future.\n"
     ]
    }
   ],
   "source": [
    "from langchain_anthropic import ChatAnthropic\n",
    "\n",
    "#クライアント作成、呼び出すモデル指定\n",
    "chatclaud = ChatAnthropic(\n",
    "    #ストリーミングモード指定\n",
    "    model=\"claude-3-5-sonnet-20240620\",\n",
    "    streaming=True,\n",
    "    callbacks=[\n",
    "        StreamingStdOutCallbackHandler()\n",
    "    ]\n",
    ")\n",
    "\n",
    "#実行\n",
    "resClaud = chatclaud(\n",
    "    [\n",
    "        HumanMessage(content=resDeep.text)\n",
    "    ]\n",
    ")\n",
    "\n",
    "print(resClaud.content)"
   ]
  },
  {
   "cell_type": "markdown",
   "id": "bba26fca-a1d8-4b0e-8f2d-553fb3e1be4d",
   "metadata": {},
   "source": [
    "## Groq Llama3 70B"
   ]
  },
  {
   "cell_type": "code",
   "execution_count": 10,
   "id": "441009df-d59a-40bf-a4a9-a6bb0e981a34",
   "metadata": {},
   "outputs": [
    {
     "name": "stdout",
     "output_type": "stream",
     "text": [
      "The lifespan of a blue whale is estimated to be around 80-90 years, although some studies suggest it may be as long as 100 years or more. Blue whales are one of the longest-living animals on Earth, and their lifespan is likely influenced by factors such as food availability, water quality, and exposure to pollutants and other environmental stressors.\n",
      "\n",
      "It's worth noting that determining the age of a blue whale can be challenging, as they don't have any visible growth rings or other age-related markers like trees or some other animals do. Scientists have used various methods to estimate the age of blue whales, including:\n",
      "\n",
      "1. Earwax plugs: Blue whales accumulate earwax plugs in their ear canal over time, and by analyzing the layers of wax, researchers can estimate the whale's age.\n",
      "2. Whalebone analysis: The whalebone (baleen) of blue whales contains growth layers that can be counted to estimate age.\n",
      "3. Radiocarbon dating: By analyzing the radiocarbon content of whale tissue, scientists can estimate the age of the whale.\n",
      "4. Acoustic monitoring: By tracking the vocalizations of individual blue whales over time, researchers can estimate their age based on changes in their vocal patterns.\n",
      "\n",
      "Overall, while the exact lifespan of a blue whale is still a subject of ongoing research, it's clear that these magnificent creatures can live for many decades, making them one of the longest-living animals on the planet.The lifespan of a blue whale is estimated to be around 80-90 years, although some studies suggest it may be as long as 100 years or more. Blue whales are one of the longest-living animals on Earth, and their lifespan is likely influenced by factors such as food availability, water quality, and exposure to pollutants and other environmental stressors.\n",
      "\n",
      "It's worth noting that determining the age of a blue whale can be challenging, as they don't have any visible growth rings or other age-related markers like trees or some other animals do. Scientists have used various methods to estimate the age of blue whales, including:\n",
      "\n",
      "1. Earwax plugs: Blue whales accumulate earwax plugs in their ear canal over time, and by analyzing the layers of wax, researchers can estimate the whale's age.\n",
      "2. Whalebone analysis: The whalebone (baleen) of blue whales contains growth layers that can be counted to estimate age.\n",
      "3. Radiocarbon dating: By analyzing the radiocarbon content of whale tissue, scientists can estimate the age of the whale.\n",
      "4. Acoustic monitoring: By tracking the vocalizations of individual blue whales over time, researchers can estimate their age based on changes in their vocal patterns.\n",
      "\n",
      "Overall, while the exact lifespan of a blue whale is still a subject of ongoing research, it's clear that these magnificent creatures can live for many decades, making them one of the longest-living animals on the planet.\n"
     ]
    }
   ],
   "source": [
    "from langchain_groq import ChatGroq\n",
    "\n",
    "#クライアント作成、呼び出すモデル指定\n",
    "chatgroq = ChatGroq(\n",
    "    #ストリーミングモード指定\n",
    "    model=\"llama3-70b-8192\",\n",
    "    streaming=True,\n",
    "    callbacks=[\n",
    "        StreamingStdOutCallbackHandler()\n",
    "    ]\n",
    ")\n",
    "\n",
    "#実行\n",
    "resGroq = chatgroq(\n",
    "    [\n",
    "        HumanMessage(content=resDeep.text)\n",
    "    ]\n",
    ")\n",
    "\n",
    "print(resGroq.content)"
   ]
  },
  {
   "cell_type": "code",
   "execution_count": 10,
   "id": "95689444-4372-4da6-9cf7-3043760f926b",
   "metadata": {},
   "outputs": [],
   "source": [
    "##"
   ]
  },
  {
   "cell_type": "code",
   "execution_count": 11,
   "id": "f8c5f138-c09d-4c9e-a2e3-a23514cd6b8b",
   "metadata": {},
   "outputs": [],
   "source": [
    "ans01 = resOpenai.content\n",
    "ans02 = resGemini.content\n",
    "ans03 = resClaud.content\n",
    "ans04 = resGroq.content"
   ]
  },
  {
   "cell_type": "code",
   "execution_count": 36,
   "id": "e2d04d54-566f-498d-83a0-30ee179bd6c8",
   "metadata": {},
   "outputs": [],
   "source": [
    "# うまくいかない\n",
    "from langchain import PromptTemplate\n",
    "\n",
    "prompt = PromptTemplate(\n",
    "    template=\"\"\"\n",
    "    あなたは優秀な裁判官です以下の４つの回答から\n",
    "    最も適切な回答を導き出してください。\n",
    "    # 回答\n",
    "    - 回答1:{ans01}\n",
    "    - 回答2:{ans02}\n",
    "    - 回答3:{ans03}\n",
    "    - 回答4:{ans04}\n",
    "    \"\"\",\n",
    "    input_variables = [\n",
    "        \"ans01\"   \n",
    "    ]\n",
    ")"
   ]
  },
  {
   "cell_type": "code",
   "execution_count": 67,
   "id": "c9292586-f0a7-435a-b5a0-7d70b0cfc3ec",
   "metadata": {},
   "outputs": [
    {
     "name": "stdout",
     "output_type": "stream",
     "text": [
      "input_variables=['ans01', 'ans02'] template='\\n    あなたは優秀な裁判官です。以下の４つの回答から\\n    最も適切な回答を導き出してください。\\n    # 回答\\n    - 回答1:{ans01}\\n    - 回答2:{ans02}\\n    '\n"
     ]
    }
   ],
   "source": [
    "print(prompt)"
   ]
  },
  {
   "cell_type": "code",
   "execution_count": 12,
   "id": "04fafc6a-13b0-40f1-8891-46c22629e32f",
   "metadata": {},
   "outputs": [],
   "source": [
    "from langchain import PromptTemplate\n",
    "\n",
    "prompt = PromptTemplate(\n",
    "    input_variables=[\"input\", \"output\"],\n",
    "    template=f\"\"\"\n",
    "    あなたは優秀な裁判官です。以下の４つの回答から\n",
    "    最も適切な回答を導き出して条件に従って出力してください。\n",
    "    # 回答\n",
    "    - 回答1:{ans01}\n",
    "    - 回答2:{ans02}\n",
    "    - 回答3:{ans03}\n",
    "    - 回答4:{ans04}\n",
    "    # 条件\n",
    "    - 出力は日本語でお願いします\n",
    "    # 出力\n",
    "    - 最も適切だった回答の内容\n",
    "    \"\"\",\n",
    ")\n"
   ]
  },
  {
   "cell_type": "code",
   "execution_count": 13,
   "id": "34fa4730-90e0-4b93-87d4-ca6583b7628d",
   "metadata": {},
   "outputs": [
    {
     "name": "stdout",
     "output_type": "stream",
     "text": [
      "\n",
      "    あなたは優秀な裁判官です。以下の４つの回答から\n",
      "    最も適切な回答を導き出して条件に従って出力してください。\n",
      "    # 回答\n",
      "    - 回答1:The lifespan of a blue whale (Balaenoptera musculus) typically ranges from 70 to 90 years, though some individuals may live over 100 years in optimal conditions. These majestic marine mammals are among the longest-lived animals on Earth, benefiting from a relatively low predation risk once they reach adulthood. However, factors such as human activities, environmental changes, and availability of food can influence their longevity.\n",
      "    - 回答2:The lifespan of a blue whale is estimated to be around **80 to 90 years**. \n",
      "\n",
      "However, it's important to note that:\n",
      "\n",
      "* **This is an estimate:**  Accurate data on the lifespan of wild blue whales is limited, as it's very difficult to track them for their entire lives.\n",
      "* **Lifespan can vary:** Factors like environmental conditions, food availability, and overall health can influence individual lifespans. \n",
      "\n",
      "    - 回答3:The lifespan of a blue whale is estimated to be between 80 to 90 years on average, although some individuals may live even longer. Here are some key points about blue whale lifespans:\n",
      "\n",
      "1. Longest-lived: Blue whales are among the longest-lived animals on Earth.\n",
      "\n",
      "2. Difficult to study: Accurate age determination is challenging due to their marine habitat and long lifespans.\n",
      "\n",
      "3. Age estimation methods: Scientists use various techniques to estimate age, including analyzing earwax plugs and examining changes in eye lenses.\n",
      "\n",
      "4. Oldest recorded: The oldest blue whale ever recorded was estimated to be around 110 years old, based on earwax plug analysis.\n",
      "\n",
      "5. Sexual maturity: Blue whales reach sexual maturity between 5-15 years of age.\n",
      "\n",
      "6. Factors affecting lifespan: Environmental conditions, food availability, and human activities (like ship strikes and entanglement in fishing gear) can impact their longevity.\n",
      "\n",
      "7. Comparison to other whales: Their lifespan is similar to other large whale species, such as fin whales and humpback whales.\n",
      "\n",
      "It's important to note that ongoing research may refine our understanding of blue whale lifespans in the future.\n",
      "    - 回答4:The lifespan of a blue whale is estimated to be around 80-90 years, although some studies suggest it may be as long as 100 years or more. Blue whales are one of the longest-living animals on Earth, and their lifespan is likely influenced by factors such as food availability, water quality, and exposure to pollutants and other environmental stressors.\n",
      "\n",
      "It's worth noting that determining the age of a blue whale can be challenging, as they don't have any visible growth rings or other age-related markers like trees or some other animals do. Scientists have used various methods to estimate the age of blue whales, including:\n",
      "\n",
      "1. Earwax plugs: Blue whales accumulate earwax plugs in their ear canal over time, and by analyzing the layers of wax, researchers can estimate the whale's age.\n",
      "2. Whalebone analysis: The whalebone (baleen) of blue whales contains growth layers that can be counted to estimate age.\n",
      "3. Radiocarbon dating: By analyzing the radiocarbon content of whale tissue, scientists can estimate the age of the whale.\n",
      "4. Acoustic monitoring: By tracking the vocalizations of individual blue whales over time, researchers can estimate their age based on changes in their vocal patterns.\n",
      "\n",
      "Overall, while the exact lifespan of a blue whale is still a subject of ongoing research, it's clear that these magnificent creatures can live for many decades, making them one of the longest-living animals on the planet.\n",
      "    # 条件\n",
      "    - 出力は日本語でお願いします\n",
      "    # 出力\n",
      "    - 最も適切だった回答の内容\n",
      "    \n"
     ]
    }
   ],
   "source": [
    "print(prompt.template)"
   ]
  },
  {
   "cell_type": "code",
   "execution_count": 14,
   "id": "bfd13f17-75db-44ba-a92b-116642aa0dd7",
   "metadata": {},
   "outputs": [
    {
     "name": "stdout",
     "output_type": "stream",
     "text": [
      "## 最も適切な回答: 回答3\n",
      "\n",
      "回答3は、ブルーウェールの寿命に関する情報を最も包括的に、かつ分かりやすく説明しています。\n",
      "\n",
      "**回答3の優れている点:**\n",
      "\n",
      "* **平均寿命と個体差の明確化:** 80-90年の平均寿命に加えて、一部の個体がそれ以上の寿命を持つ可能性も示唆しています。\n",
      "* **重要なポイントの整理:**  ブルーウェールの寿命に関する重要なポイントを7つの項目に分けて説明することで、読者の理解を深めています。\n",
      "* **研究方法の説明:** 寿命推定方法として、耳垢栓分析、眼レンズの変化、放射性炭素年代測定など、具体的な手法を挙げている点が評価できます。\n",
      "* **他のクジラとの比較:**  他の大型クジラ種との寿命比較も盛り込み、ブルーウェールの寿命をより客観的に捉えられます。\n",
      "* **今後の研究の必要性:**  研究の進展によって、ブルーウェールの寿命に関する理解が深まる可能性を示唆することで、読者にさらなる興味関心を抱かせる効果があります。\n",
      "\n",
      "**他の回答の欠点:**\n",
      "\n",
      "* 回答1:  寿命の範囲を示すのみで、具体的な情報が不足しています。\n",
      "* 回答2:  推定値であることを強調していますが、具体的な根拠や研究方法の説明がありません。\n",
      "* 回答4:  寿命推定方法の説明は充実していますが、全体的な構成が冗長で、重要なポイントが埋もれてしまっています。\n",
      "\n",
      "**結論:**\n",
      "\n",
      "回答3は、ブルーウェールの寿命に関する情報を、正確かつ分かりやすく、かつ興味深い形で提供しているため、最も適切な回答と言えるでしょう。 \n",
      "\n"
     ]
    }
   ],
   "source": [
    "from langchain_google_genai import ChatGoogleGenerativeAI\n",
    "\n",
    "#クライアント作成、呼び出すモデル指定\n",
    "chatgemini = ChatGoogleGenerativeAI(\n",
    "    #ストリーミングモード指定\n",
    "    model=\"gemini-1.5-flash-latest\",\n",
    "    streaming=True,\n",
    "    callbacks=[\n",
    "        StreamingStdOutCallbackHandler()\n",
    "    ]\n",
    ")\n",
    "\n",
    "#実行\n",
    "resFinal = chatgemini(\n",
    "    [\n",
    "        HumanMessage(content=prompt.template)\n",
    "    ]\n",
    ")\n",
    "\n",
    "print(resFinal.content)"
   ]
  },
  {
   "cell_type": "code",
   "execution_count": 15,
   "id": "11bd49ea-af77-4125-a1a3-c50ed751edaa",
   "metadata": {},
   "outputs": [
    {
     "name": "stdout",
     "output_type": "stream",
     "text": [
      "シロナガスクジラの寿命は平均80〜90年と推定されているが、個体によってはもっと長生きすることもある。シロナガスクジラの寿命について、いくつかのポイントをご紹介します：\n",
      "\n",
      "1.最も長生きシロナガスクジラは地球上で最も長寿の動物である。\n",
      "\n",
      "2.研究が難しい：海洋に生息し、寿命が長いため、正確な年齢判定は難しい。\n",
      "\n",
      "3.年齢推定方法：年齢を推定するために、耳垢栓の分析や眼球レンズの変化を調べるなど、科学者はさまざまな手法を用いている。\n",
      "\n",
      "4.最高齢記録：耳垢栓の分析から、これまで記録されたシロナガスクジラの最高齢は約110歳と推定された。\n",
      "\n",
      "5.性成熟：シロナガスクジラは5～15歳で性成熟する。\n",
      "\n",
      "6.寿命に影響する要因：環境条件、餌の入手可能性、人間の活動（船の衝突や漁具への絡まりなど）が寿命に影響する。\n",
      "\n",
      "7.他のクジラとの比較：寿命はナガスクジラやザトウクジラなど、他の大型鯨種と同様である。\n",
      "\n",
      "現在進行中の調査によって、シロナガスクジラの寿命についての理解が今後さらに深まる可能性があることは重要である。\n"
     ]
    }
   ],
   "source": [
    "\n",
    "# イニシャライズ\n",
    "translator = deepl.Translator(os.environ['DEEPL_API_KEY'])\n",
    "\n",
    "# 翻訳を実行\n",
    "resDeep = translator.translate_text(ans03, source_lang='EN', target_lang='JA')\n",
    "\n",
    "# print すると翻訳後の文章が出力される\n",
    "print(resDeep)"
   ]
  },
  {
   "cell_type": "code",
   "execution_count": null,
   "id": "f701f3c7-05e2-479a-9158-ce28e3248552",
   "metadata": {},
   "outputs": [],
   "source": []
  }
 ],
 "metadata": {
  "kernelspec": {
   "display_name": "Python 3 (ipykernel)",
   "language": "python",
   "name": "python3"
  },
  "language_info": {
   "codemirror_mode": {
    "name": "ipython",
    "version": 3
   },
   "file_extension": ".py",
   "mimetype": "text/x-python",
   "name": "python",
   "nbconvert_exporter": "python",
   "pygments_lexer": "ipython3",
   "version": "3.11.7"
  }
 },
 "nbformat": 4,
 "nbformat_minor": 5
}
