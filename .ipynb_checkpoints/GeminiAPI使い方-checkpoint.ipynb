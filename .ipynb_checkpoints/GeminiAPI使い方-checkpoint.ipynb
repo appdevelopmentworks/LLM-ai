{
 "cells": [
  {
   "cell_type": "code",
   "execution_count": 1,
   "id": "2771fdce-f61e-47b1-947a-ea7f962249f9",
   "metadata": {},
   "outputs": [
    {
     "name": "stdout",
     "output_type": "stream",
     "text": [
      "Collecting google-generativeai\n",
      "  Downloading google_generativeai-0.4.1-py3-none-any.whl.metadata (6.2 kB)\n",
      "Requirement already satisfied: python-dotenv in c:\\users\\hartm\\anaconda3\\lib\\site-packages (0.21.0)\n",
      "Collecting google-ai-generativelanguage==0.4.0 (from google-generativeai)\n",
      "  Downloading google_ai_generativelanguage-0.4.0-py3-none-any.whl.metadata (5.1 kB)\n",
      "Collecting google-auth>=2.15.0 (from google-generativeai)\n",
      "  Downloading google_auth-2.28.2-py2.py3-none-any.whl.metadata (4.7 kB)\n",
      "Collecting google-api-core (from google-generativeai)\n",
      "  Downloading google_api_core-2.17.1-py3-none-any.whl.metadata (2.7 kB)\n",
      "Requirement already satisfied: protobuf in c:\\users\\hartm\\anaconda3\\lib\\site-packages (from google-generativeai) (3.20.3)\n",
      "Requirement already satisfied: pydantic in c:\\users\\hartm\\anaconda3\\lib\\site-packages (from google-generativeai) (1.10.12)\n",
      "Requirement already satisfied: tqdm in c:\\users\\hartm\\anaconda3\\lib\\site-packages (from google-generativeai) (4.65.0)\n",
      "Requirement already satisfied: typing-extensions in c:\\users\\hartm\\anaconda3\\lib\\site-packages (from google-generativeai) (4.9.0)\n",
      "Collecting proto-plus<2.0.0dev,>=1.22.3 (from google-ai-generativelanguage==0.4.0->google-generativeai)\n",
      "  Downloading proto_plus-1.23.0-py3-none-any.whl.metadata (2.2 kB)\n",
      "Collecting googleapis-common-protos<2.0.dev0,>=1.56.2 (from google-api-core->google-generativeai)\n",
      "  Downloading googleapis_common_protos-1.63.0-py2.py3-none-any.whl.metadata (1.5 kB)\n",
      "Requirement already satisfied: requests<3.0.0.dev0,>=2.18.0 in c:\\users\\hartm\\anaconda3\\lib\\site-packages (from google-api-core->google-generativeai) (2.31.0)\n",
      "Requirement already satisfied: cachetools<6.0,>=2.0.0 in c:\\users\\hartm\\anaconda3\\lib\\site-packages (from google-auth>=2.15.0->google-generativeai) (4.2.2)\n",
      "Requirement already satisfied: pyasn1-modules>=0.2.1 in c:\\users\\hartm\\anaconda3\\lib\\site-packages (from google-auth>=2.15.0->google-generativeai) (0.2.8)\n",
      "Collecting rsa<5,>=3.1.4 (from google-auth>=2.15.0->google-generativeai)\n",
      "  Downloading rsa-4.9-py3-none-any.whl.metadata (4.2 kB)\n",
      "Requirement already satisfied: colorama in c:\\users\\hartm\\appdata\\roaming\\python\\python311\\site-packages (from tqdm->google-generativeai) (0.4.6)\n",
      "Collecting grpcio<2.0dev,>=1.33.2 (from google-api-core[grpc]!=2.0.*,!=2.1.*,!=2.10.*,!=2.2.*,!=2.3.*,!=2.4.*,!=2.5.*,!=2.6.*,!=2.7.*,!=2.8.*,!=2.9.*,<3.0.0dev,>=1.34.0->google-ai-generativelanguage==0.4.0->google-generativeai)\n",
      "  Downloading grpcio-1.62.1-cp311-cp311-win_amd64.whl.metadata (4.2 kB)\n",
      "Collecting grpcio-status<2.0.dev0,>=1.33.2 (from google-api-core[grpc]!=2.0.*,!=2.1.*,!=2.10.*,!=2.2.*,!=2.3.*,!=2.4.*,!=2.5.*,!=2.6.*,!=2.7.*,!=2.8.*,!=2.9.*,<3.0.0dev,>=1.34.0->google-ai-generativelanguage==0.4.0->google-generativeai)\n",
      "  Downloading grpcio_status-1.62.1-py3-none-any.whl.metadata (1.3 kB)\n",
      "Requirement already satisfied: pyasn1<0.5.0,>=0.4.6 in c:\\users\\hartm\\anaconda3\\lib\\site-packages (from pyasn1-modules>=0.2.1->google-auth>=2.15.0->google-generativeai) (0.4.8)\n",
      "Requirement already satisfied: charset-normalizer<4,>=2 in c:\\users\\hartm\\anaconda3\\lib\\site-packages (from requests<3.0.0.dev0,>=2.18.0->google-api-core->google-generativeai) (2.0.4)\n",
      "Requirement already satisfied: idna<4,>=2.5 in c:\\users\\hartm\\anaconda3\\lib\\site-packages (from requests<3.0.0.dev0,>=2.18.0->google-api-core->google-generativeai) (3.4)\n",
      "Requirement already satisfied: urllib3<3,>=1.21.1 in c:\\users\\hartm\\anaconda3\\lib\\site-packages (from requests<3.0.0.dev0,>=2.18.0->google-api-core->google-generativeai) (2.0.7)\n",
      "Requirement already satisfied: certifi>=2017.4.17 in c:\\users\\hartm\\anaconda3\\lib\\site-packages (from requests<3.0.0.dev0,>=2.18.0->google-api-core->google-generativeai) (2024.2.2)\n",
      "Collecting protobuf (from google-generativeai)\n",
      "  Downloading protobuf-4.25.3-cp310-abi3-win_amd64.whl.metadata (541 bytes)\n",
      "Downloading google_generativeai-0.4.1-py3-none-any.whl (137 kB)\n",
      "   ---------------------------------------- 0.0/137.4 kB ? eta -:--:--\n",
      "   -------------------------------------- - 133.1/137.4 kB 4.0 MB/s eta 0:00:01\n",
      "   ---------------------------------------- 137.4/137.4 kB 2.7 MB/s eta 0:00:00\n",
      "Downloading google_ai_generativelanguage-0.4.0-py3-none-any.whl (598 kB)\n",
      "   ---------------------------------------- 0.0/598.7 kB ? eta -:--:--\n",
      "   --------------------------------------- 598.7/598.7 kB 39.2 MB/s eta 0:00:00\n",
      "Downloading google_api_core-2.17.1-py3-none-any.whl (137 kB)\n",
      "   ---------------------------------------- 0.0/137.0 kB ? eta -:--:--\n",
      "   ---------------------------------------- 137.0/137.0 kB 8.5 MB/s eta 0:00:00\n",
      "Downloading google_auth-2.28.2-py2.py3-none-any.whl (186 kB)\n",
      "   ---------------------------------------- 0.0/186.9 kB ? eta -:--:--\n",
      "   --------------------------------------- 186.9/186.9 kB 11.8 MB/s eta 0:00:00\n",
      "Downloading googleapis_common_protos-1.63.0-py2.py3-none-any.whl (229 kB)\n",
      "   ---------------------------------------- 0.0/229.1 kB ? eta -:--:--\n",
      "   ---------------------------------------- 229.1/229.1 kB 6.8 MB/s eta 0:00:00\n",
      "Downloading proto_plus-1.23.0-py3-none-any.whl (48 kB)\n",
      "   ---------------------------------------- 0.0/48.8 kB ? eta -:--:--\n",
      "   ---------------------------------------- 48.8/48.8 kB ? eta 0:00:00\n",
      "Downloading rsa-4.9-py3-none-any.whl (34 kB)\n",
      "Downloading grpcio-1.62.1-cp311-cp311-win_amd64.whl (3.8 MB)\n",
      "   ---------------------------------------- 0.0/3.8 MB ? eta -:--:--\n",
      "   ---------------------------------------  3.8/3.8 MB 121.9 MB/s eta 0:00:01\n",
      "   ---------------------------------------- 3.8/3.8 MB 80.4 MB/s eta 0:00:00\n",
      "Downloading grpcio_status-1.62.1-py3-none-any.whl (14 kB)\n",
      "Downloading protobuf-4.25.3-cp310-abi3-win_amd64.whl (413 kB)\n",
      "   ---------------------------------------- 0.0/413.4 kB ? eta -:--:--\n",
      "   --------------------------------------- 413.4/413.4 kB 12.6 MB/s eta 0:00:00\n",
      "Installing collected packages: rsa, protobuf, grpcio, proto-plus, googleapis-common-protos, google-auth, grpcio-status, google-api-core, google-ai-generativelanguage, google-generativeai\n",
      "  Attempting uninstall: protobuf\n",
      "    Found existing installation: protobuf 3.20.3\n",
      "    Uninstalling protobuf-3.20.3:\n",
      "      Successfully uninstalled protobuf-3.20.3\n",
      "Successfully installed google-ai-generativelanguage-0.4.0 google-api-core-2.17.1 google-auth-2.28.2 google-generativeai-0.4.1 googleapis-common-protos-1.63.0 grpcio-1.62.1 grpcio-status-1.62.1 proto-plus-1.23.0 protobuf-4.25.3 rsa-4.9\n"
     ]
    }
   ],
   "source": [
    "#\n",
    "!pip install google-generativeai python-dotenv"
   ]
  },
  {
   "cell_type": "markdown",
   "id": "3cdc7756-4606-4103-b954-d2dc715167f6",
   "metadata": {},
   "source": [
    "単発で質問を投げる場合"
   ]
  },
  {
   "cell_type": "code",
   "execution_count": 1,
   "id": "6e558295-3066-4ff6-8816-aec6da2cf104",
   "metadata": {},
   "outputs": [
    {
     "data": {
      "text/plain": [
       "False"
      ]
     },
     "execution_count": 1,
     "metadata": {},
     "output_type": "execute_result"
    }
   ],
   "source": [
    "import os\n",
    "#\n",
    "from dotenv import load_dotenv\n",
    "#\n",
    "import google.generativeai as genai\n",
    " \n",
    "# .envファイルの読み込み\n",
    "load_dotenv()"
   ]
  },
  {
   "cell_type": "code",
   "execution_count": null,
   "id": "787d1d16-ff21-4dc0-82d2-f8a9b1c63186",
   "metadata": {},
   "outputs": [],
   "source": [
    "#環境変数としてAPIキーを設定しておく\n",
    "#事前にパソコンの環境変数を設定しておいた場合の取得法\n",
    "os.environ['GOOGLE_API_KEY']"
   ]
  },
  {
   "cell_type": "code",
   "execution_count": null,
   "id": "5bef0eaf-4a70-4e0b-b52c-a54f98b39a3d",
   "metadata": {},
   "outputs": [],
   "source": [
    "#事前にパソコンの環境変数を設定しておいた場合の取得法(別)\n",
    "os.getenv('GOOGLE_API_KEY')"
   ]
  },
  {
   "cell_type": "code",
   "execution_count": 4,
   "id": "4c20985a-10ef-4787-8b86-cf90366b5cd8",
   "metadata": {},
   "outputs": [
    {
     "name": "stdout",
     "output_type": "stream",
     "text": [
      "魚は、人間と同じような「目を閉じて眠る」という睡眠パターンは持っていません。代わりに、次のようなさまざまな休息状態があります。\n",
      "\n",
      "**1. トランス状態：**\n",
      "* 目を閉じて動かない状態\n",
      "* 脳活動が低下している\n",
      "* 刺激に対してゆっくり反応する\n",
      "\n",
      "**2. 停止運動：**\n",
      "* 水流に逆らって静止している状態\n",
      "* 脳活動が低くなっている\n",
      "* 強い刺激を受けると反応する\n",
      "\n",
      "**3. ユニモーダル睡眠：**\n",
      "* 半分だけ脳が休息している状態\n",
      "* 一つの目が閉じ、もう一つの目は開いている\n",
      "* 弱い刺激に対して反応する\n",
      "\n",
      "「睡眠」の定義については科学者の間で議論されていますが、一般的に受け入れられている定義によると、魚は上記のような休息状態を「睡眠」としています。\n",
      "\n",
      "魚が眠る時間は種によって異なりますが、通常は数時間から数分までです。多くの魚は夜間に眠りますが、昼間に眠る種もいます。\n"
     ]
    }
   ],
   "source": [
    " # API-KEYの設定\n",
    "GOOGLE_API_KEY=os.getenv('GOOGLE_API_KEY')\n",
    "\n",
    "genai.configure(api_key=GOOGLE_API_KEY)\n",
    " \n",
    "gemini_pro = genai.GenerativeModel(\"gemini-pro\")\n",
    "prompt = \"魚はいつ眠りますか？\"\n",
    "response = gemini_pro.generate_content(prompt)\n",
    "print(response.text)"
   ]
  },
  {
   "cell_type": "markdown",
   "id": "6905dc57-3583-4d1c-888d-344b8a5dd006",
   "metadata": {},
   "source": [
    "会話しながら履歴を取る場合"
   ]
  },
  {
   "cell_type": "code",
   "execution_count": 11,
   "id": "64ce3baa-c987-4e9a-9d48-d3bd956f76d5",
   "metadata": {},
   "outputs": [
    {
     "name": "stdout",
     "output_type": "stream",
     "text": [
      "チャットボットです。何か質問はありますか？（終了するには「終了」と入力してください）\n"
     ]
    },
    {
     "name": "stdin",
     "output_type": "stream",
     "text": [
      "質問内容を入力してください:  ハリウッドで女優になるには？\n"
     ]
    },
    {
     "name": "stdout",
     "output_type": "stream",
     "text": [
      "**ハリウッドで女優になるためのステップ：**\n",
      "\n",
      "**1. 演劇の訓練を受ける**\n",
      "* 認定された演劇学校に入学する\n",
      "* ワークショップ、クラス、プライベートレッスンに参加する\n",
      "* コミュニティシアターや学生制作に参加する\n",
      "\n",
      "**2. 演技のスキルを磨く**\n",
      "* 様々な役に挑戦する\n",
      "* さまざまな演技スタイルを学ぶ\n",
      "* シーンスタディ、モノローグ、即興を練習する\n",
      "\n",
      "**3. ヘッドショットとレジュメを作成する**\n",
      "* プロのヘッドショットを撮影する\n",
      "* 演技歴、教育、スキルを強調したレジュメを作成する\n",
      "\n",
      "**4. エージェントを探す**\n",
      "* エージェントとのつながりを求める\n",
      "* 業界イベントに出席する\n",
      "* オンラインリソースや紹介を利用する\n",
      "\n",
      "**5. オーディションを受ける**\n",
      "* オーディション情報をオンラインや業界紙で探す\n",
      "* オーディションのテクニックを練習する\n",
      "* 適切な服装と態度でオーディションに臨む\n",
      "\n",
      "**6. 関係を築く**\n",
      "* キャスティングディレクター、監督、プロデューサーとつながる\n",
      "* 業界内のイベントやワークショップに参加する\n",
      "* LinkedIn や Twitter などのソーシャルメディアを利用する\n",
      "\n",
      "**7. 辛抱強く、粘り強くある**\n",
      "* 演技の世界は競争が激しい\n",
      "* オーディションに落ちてもめげない\n",
      "* 自分のスキルを向上させ続ける\n",
      "\n",
      "**追加のヒント：**\n",
      "\n",
      "* **情熱を持つ：** 演技への情熱がなければ、ハリウッドで成功することは難しい。\n",
      "* **タフな皮膚を持つ：** 批判や拒絶に耐える準備をする。\n",
      "* **多才である：** さまざまな役に対応できるよう、多才な俳優になる。\n",
      "* **忍耐強くある：** 成功はすぐに訪れないかもしれない。\n",
      "* **あきらめない：** 困難なことに直面しても、あきらめないことが重要。\n"
     ]
    },
    {
     "name": "stdin",
     "output_type": "stream",
     "text": [
      "質問内容を入力してください:  終了\n"
     ]
    },
    {
     "name": "stdout",
     "output_type": "stream",
     "text": [
      "チャットを終了します。またのお越しを！\n"
     ]
    }
   ],
   "source": [
    "import os\n",
    "from dotenv import load_dotenv\n",
    "import google.generativeai as genai\n",
    "\n",
    "# .envファイルの読み込み\n",
    "load_dotenv()\n",
    "\n",
    "# API-KEYの設定\n",
    "#GOOGLE_API_KEY=os.getenv('GOOGLE_API_KEY')\n",
    "genai.configure(api_key=GOOGLE_API_KEY)\n",
    "\n",
    "model = genai.GenerativeModel(\"gemini-pro\")\n",
    "# チャット履歴を初期化\n",
    "chat = model.start_chat(history=[])\n",
    "\n",
    "print(\"チャットボットです。何か質問はありますか？（終了するには「終了」と入力してください）\")\n",
    "\n",
    "while True:\n",
    "    # ユーザーからの入力を受け取る\n",
    "    user_input = input(\"質問内容を入力してください: \")\n",
    "\n",
    "    # 終了条件\n",
    "    if user_input == \"終了\":\n",
    "        print(\"チャットを終了します。またのお越しを！\")\n",
    "        break\n",
    "    \n",
    "    # チャットの応答\n",
    "    response = chat.send_message(user_input)\n",
    "    print(response.text)"
   ]
  },
  {
   "cell_type": "code",
   "execution_count": 3,
   "id": "e53e2ff5-c3e3-4262-b781-249000a6dc73",
   "metadata": {},
   "outputs": [
    {
     "name": "stdout",
     "output_type": "stream",
     "text": [
      "models/gemini-1.0-pro\n",
      "models/gemini-1.0-pro-001\n",
      "models/gemini-1.0-pro-latest\n",
      "models/gemini-1.0-pro-vision-latest\n",
      "models/gemini-pro\n",
      "models/gemini-pro-vision\n"
     ]
    }
   ],
   "source": [
    "#\n",
    "for m in genai.list_models():\n",
    "  if 'generateContent' in m.supported_generation_methods:\n",
    "    print(m.name)"
   ]
  },
  {
   "cell_type": "code",
   "execution_count": 6,
   "id": "b7eed8a9-dfed-46ad-a8ca-77b9cf16e4b1",
   "metadata": {},
   "outputs": [
    {
     "name": "stdout",
     "output_type": "stream",
     "text": [
      "Python\n",
      "--------------------------------------------------\n",
      "Python の主な特徴を以下に示します。\n",
      "\n",
      "* **汎用性：**Web 開発、データ サイエンス、機械学習、自動化など、幅広いアプリケーションに使用できます。\n",
      "* **初心者向け：**明快で読みやすい構文により、初心者でもプログラムを簡単に学習できます。\n",
      "* **大規模なライブラリ：**豊富なライブラリにより、開発タスクを簡素化できます。\n",
      "* **オブジェクト指向：**オブジェクト指向プログラミングをサポートし、コードのモジュール化と再利用性を向上させます。\n",
      "* **動的型付け：**変数の型を明示的に宣言する必要がなく、開発プロセスをスピードアップできます。\n",
      "* **インタプリタ型：**コンパイルする必要がなく、開発サイクルを高速化できます。\n",
      "* **コミュニティサポート：**活発なコミュニティにより、サポート、リソース、ドキュメントが豊富にあります。\n",
      "* **拡張性：**C や C++ などの低レベル言語を使用して拡張できます。\n",
      "* **ポータビリティ：**複数のプラットフォーム (Windows、Mac、Linux) で実行できます。\n"
     ]
    }
   ],
   "source": [
    "import google.generativeai as genai\n",
    " \n",
    "#GOOGLE_API_KEY = \"取得したAPIキー\"\n",
    " \n",
    "genai.configure(api_key=GOOGLE_API_KEY)\n",
    " \n",
    "model = genai.GenerativeModel('gemini-pro')\n",
    " \n",
    "chat = model.start_chat()\n",
    "response = chat.send_message('どのプログラミング言語を学べば良いですか？最もオススメの言語を一つだけ教えてください。')\n",
    "print(response.text)\n",
    " \n",
    "print(\"-\" * 50)\n",
    " \n",
    "response = chat.send_message('その言語の特徴は？')\n",
    "print(response.text)"
   ]
  },
  {
   "cell_type": "code",
   "execution_count": 14,
   "id": "37f0507f-d96e-4a74-ac88-d6e201181134",
   "metadata": {},
   "outputs": [
    {
     "name": "stdout",
     "output_type": "stream",
     "text": [
      " 足利義詮（あしかが よしあきら、1343年1月19日 - 1428年5月30日）は、室町幕府の第2代征夷大将軍（在職：1358年 - 1367年、1368年 - 1394年）。初代征夷大将軍・足利尊氏の弟。母は赤橋登子。幼名は千寿丸。\n"
     ]
    }
   ],
   "source": [
    "import google.generativeai as genai\n",
    "from pathlib import Path\n",
    " \n",
    "#GOOGLE_API_KEY = \"取得したAPIキー\"\n",
    " \n",
    "genai.configure(api_key=GOOGLE_API_KEY)\n",
    " \n",
    "model = genai.GenerativeModel('gemini-pro-vision')\n",
    "\n",
    "picture = [{\n",
    "    'mime_type': 'image/png',\n",
    "    'data': Path('hideyosi.png').read_bytes()\n",
    "}]\n",
    "prompt = \"これは誰ですか？:\"\n",
    "\n",
    "response = model.generate_content(\n",
    "    contents=[prompt, picture[0]]\n",
    ")\n",
    "print(response.text)"
   ]
  },
  {
   "cell_type": "code",
   "execution_count": 17,
   "id": "b63db75f-aeb0-4ffe-af2d-ae34335ed62c",
   "metadata": {},
   "outputs": [
    {
     "name": "stdout",
     "output_type": "stream",
     "text": [
      " 順位,コード\n",
      "26,6547\n",
      "27,5832\n",
      "28,6482\n",
      "29,2001\n",
      "30,5660\n",
      "31,2001\n",
      "32,7561\n",
      "33,4092\n",
      "34,1443\n",
      "35,3193\n",
      "36,6044\n",
      "37,2708\n",
      "38,4636\n",
      "39,5313\n",
      "40,9629\n",
      "41,1431\n",
      "42,8613\n",
      "43,5971\n",
      "44,3151\n",
      "45,6382\n",
      "46,4617\n",
      "47,9438\n",
      "48,5344\n",
      "49,7635\n",
      "50,6542\n",
      "51,8705\n",
      "52,9208\n"
     ]
    }
   ],
   "source": [
    "import google.generativeai as genai\n",
    "from pathlib import Path\n",
    " \n",
    "#GOOGLE_API_KEY = \"取得したAPIキー\"\n",
    " \n",
    "genai.configure(api_key=GOOGLE_API_KEY)\n",
    " \n",
    "model = genai.GenerativeModel('gemini-pro-vision')\n",
    "\n",
    "picture = [{\n",
    "    'mime_type': 'image/jpeg',\n",
    "    'data': Path('codelst.jpg').read_bytes()\n",
    "}]\n",
    "prompt = \"写真の中の4桁の数字をCSVで出力してください:\"\n",
    "\n",
    "response = model.generate_content(\n",
    "    contents=[prompt, picture[0]]\n",
    ")\n",
    "print(response.text)"
   ]
  },
  {
   "cell_type": "code",
   "execution_count": null,
   "id": "5518d9bc-5d51-4492-8c6f-c5c4aa7a6656",
   "metadata": {},
   "outputs": [],
   "source": []
  }
 ],
 "metadata": {
  "kernelspec": {
   "display_name": "Python 3 (ipykernel)",
   "language": "python",
   "name": "python3"
  },
  "language_info": {
   "codemirror_mode": {
    "name": "ipython",
    "version": 3
   },
   "file_extension": ".py",
   "mimetype": "text/x-python",
   "name": "python",
   "nbconvert_exporter": "python",
   "pygments_lexer": "ipython3",
   "version": "3.11.7"
  }
 },
 "nbformat": 4,
 "nbformat_minor": 5
}
