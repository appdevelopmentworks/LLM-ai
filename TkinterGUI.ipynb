{
 "cells": [
  {
   "cell_type": "code",
   "execution_count": 19,
   "id": "ce03d9db-95a8-447b-8ec8-e1696f7fa800",
   "metadata": {},
   "outputs": [],
   "source": [
    "import sys\n",
    "import tkinter\n",
    "import tkinter.ttk as ttk\n",
    "\n",
    "root = tkinter.Tk()\n",
    "root.mainloop()"
   ]
  },
  {
   "cell_type": "code",
   "execution_count": 11,
   "id": "0c2599bf-3084-4072-bed2-8d677868b8ff",
   "metadata": {},
   "outputs": [],
   "source": [
    "root = tkinter.Tk()\n",
    "root.title(u\"llm アプリ\")\n",
    "root.geometry(\"400x300\")\n",
    "\n",
    "root.mainloop()"
   ]
  },
  {
   "cell_type": "code",
   "execution_count": 41,
   "id": "65ce0cfa-c800-4a82-aeee-3574e048884e",
   "metadata": {},
   "outputs": [],
   "source": [
    "import sys\n",
    "import tkinter as tk\n",
    "import tkinter.ttk as ttk\n",
    "from tkinter import scrolledtext"
   ]
  },
  {
   "cell_type": "code",
   "execution_count": 53,
   "id": "841e0938-53ad-447a-a4b0-a67ae27d47ac",
   "metadata": {},
   "outputs": [],
   "source": [
    "root = tk.Tk()\n",
    "root.title(\"LLM アプリ\")\n",
    "root.geometry(\"800x900\")\n",
    "\n",
    "#エントリー\n",
    "#EditBox = tkinter.Entry(width=50)\n",
    "#EditBox.insert(tkinter.END,\"挿入する文字列\")\n",
    "#EditBox.pack()\n",
    "\n",
    "Text_input = tk.Text(width=110,height=20)\n",
    "Text_input.pack()\n",
    "\n",
    "frame1 = tk.Frame(root)\n",
    "frame1.pack(anchor=tk.W)\n",
    "\n",
    "Button = tk.Button(frame1,text='生成')\n",
    "Button.pack(side=tkinter.RIGHT)\n",
    "module = ('Wikiから取得', 'Googleから取得')\n",
    "Combobox = ttk.Combobox(frame1, width=50, values=module)\n",
    "Combobox.pack(side=tkinter.RIGHT)\n",
    "\n",
    "#ScrolledTextウィジェットを作成\n",
    "Text_output = scrolledtext.ScrolledText(\n",
    "    root, \n",
    "    width=110, \n",
    "    height=20)\n",
    "\n",
    "#ウィジェットを配置\n",
    "Text_output.pack()\n",
    "\n",
    "\n",
    "root.mainloop()"
   ]
  },
  {
   "cell_type": "code",
   "execution_count": 66,
   "id": "0e1363c5-5e95-4da6-bb73-0628ede980a5",
   "metadata": {},
   "outputs": [],
   "source": [
    "root = tk.Tk()\n",
    "root.title(\"LLM アプリ\")\n",
    "root.geometry(\"800x600\")\n",
    "\n",
    "#クリックしたときに実行する関数\n",
    "def button_click():\n",
    "    txt_in =Text_input.get(\"1.0\", tk.END)\n",
    "    cb_in = Combobox.get()\n",
    "    Text_output.insert(tk.END,txt_in + cb_in)\n",
    "\n",
    "Text_input = tk.Text(width=110,height=20)\n",
    "Text_input.pack()\n",
    "\n",
    "frame1 = tk.Frame(root)\n",
    "frame1.pack(anchor=tk.W)\n",
    "\n",
    "Button = tk.Button(frame1,text='生成', command=button_click)\n",
    "Button.pack(side=tkinter.RIGHT)\n",
    "list = ('Wikiから取得', 'Googleから取得')\n",
    "Combobox = ttk.Combobox(frame1, width=50, values=list)\n",
    "Combobox.pack(side=tkinter.RIGHT)\n",
    "\n",
    "#ScrolledTextウィジェットを作成\n",
    "Text_output = scrolledtext.ScrolledText(\n",
    "    root, \n",
    "    width=110, \n",
    "    height=20)\n",
    "\n",
    "#ウィジェットを配置\n",
    "Text_output.pack()\n",
    "\n",
    "\n",
    "root.mainloop()"
   ]
  },
  {
   "cell_type": "code",
   "execution_count": null,
   "id": "a20f7021-eef1-45f1-86f0-124a9ecb1720",
   "metadata": {},
   "outputs": [],
   "source": []
  }
 ],
 "metadata": {
  "kernelspec": {
   "display_name": "Python 3 (ipykernel)",
   "language": "python",
   "name": "python3"
  },
  "language_info": {
   "codemirror_mode": {
    "name": "ipython",
    "version": 3
   },
   "file_extension": ".py",
   "mimetype": "text/x-python",
   "name": "python",
   "nbconvert_exporter": "python",
   "pygments_lexer": "ipython3",
   "version": "3.11.7"
  }
 },
 "nbformat": 4,
 "nbformat_minor": 5
}
